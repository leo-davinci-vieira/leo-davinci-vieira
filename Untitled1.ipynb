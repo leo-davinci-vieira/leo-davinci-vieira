{
  "nbformat": 4,
  "nbformat_minor": 0,
  "metadata": {
    "colab": {
      "provenance": [],
      "authorship_tag": "ABX9TyOkvkQsuRq6AhRYTKtk7eZd",
      "include_colab_link": true
    },
    "kernelspec": {
      "name": "python3",
      "display_name": "Python 3"
    },
    "language_info": {
      "name": "python"
    }
  },
  "cells": [
    {
      "cell_type": "markdown",
      "metadata": {
        "id": "view-in-github",
        "colab_type": "text"
      },
      "source": [
        "<a href=\"https://colab.research.google.com/github/leo-davinci-vieira/leo-davinci-vieira/blob/main/Untitled1.ipynb\" target=\"_parent\"><img src=\"https://colab.research.google.com/assets/colab-badge.svg\" alt=\"Open In Colab\"/></a>"
      ]
    },
    {
      "cell_type": "code",
      "execution_count": 2,
      "metadata": {
        "colab": {
          "base_uri": "https://localhost:8080/"
        },
        "id": "mFbWXue-3o-u",
        "outputId": "2e2bd7ba-8ef6-41dd-9350-46891c16dcfb"
      },
      "outputs": [
        {
          "output_type": "stream",
          "name": "stdout",
          "text": [
            "o maior número é: 20\n"
          ]
        }
      ],
      "source": [
        "# teste 1\n",
        "a = 10\n",
        "b = 20\n",
        "if(a>b):\n",
        "    maior = a\n",
        "else:\n",
        "    maior = b\n",
        "print(f'o maior número é: {maior}')\n"
      ]
    },
    {
      "cell_type": "code",
      "source": [
        "# teste 2\n",
        "a=1\n",
        "b=20\n",
        "maior=a\n",
        "if(b>maior):\n",
        "  maior=b\n",
        "print(f'o maior número é:{maior}')"
      ],
      "metadata": {
        "colab": {
          "base_uri": "https://localhost:8080/"
        },
        "id": "qQiIxnjNbSQU",
        "outputId": "2a9b4598-eb27-4dca-cc49-37b86d56f96f"
      },
      "execution_count": 6,
      "outputs": [
        {
          "output_type": "stream",
          "name": "stdout",
          "text": [
            "o maior número é:20\n"
          ]
        }
      ]
    },
    {
      "cell_type": "code",
      "source": [
        "from ast import Num\n",
        "# teste 3\n",
        "Num = 45\n",
        "if(Num%2==0):\n",
        "  situação='O número é par'\n",
        "else:\n",
        "  situação='O número é impar'\n",
        "\n",
        "print(situação)"
      ],
      "metadata": {
        "colab": {
          "base_uri": "https://localhost:8080/"
        },
        "id": "VDwvXKcscmuW",
        "outputId": "3b6c68ff-9739-4e6b-df27-e273d96ed7ee"
      },
      "execution_count": 8,
      "outputs": [
        {
          "output_type": "stream",
          "name": "stdout",
          "text": [
            "O número é impar\n"
          ]
        }
      ]
    },
    {
      "cell_type": "code",
      "source": [
        "# teste 4 - Avaliação de notas do aluno\n",
        "\n",
        "média = 2\n",
        "if(média>=7.0):\n",
        "      situação = \"aprovado\"\n",
        "elif(média>=5.0):\n",
        "  situação = \"em recuperação\"\n",
        "else:\n",
        "  situação = \"reprovado\"\n",
        "\n",
        "print(f'O estudante está: {situação}')"
      ],
      "metadata": {
        "colab": {
          "base_uri": "https://localhost:8080/"
        },
        "id": "6NLC31zUeHSw",
        "outputId": "41a45517-d060-40eb-ae66-8e9264231f46"
      },
      "execution_count": 21,
      "outputs": [
        {
          "output_type": "stream",
          "name": "stdout",
          "text": [
            "O estudante está: reprovado\n"
          ]
        }
      ]
    },
    {
      "cell_type": "code",
      "source": [
        "# teste 5 - Simular descontos na compra de produtos\n",
        "\n",
        "preco_unitario = 10\n",
        "DESCONTO10 = 0.1\n",
        "DESCONTO20 = 0.2\n",
        "quantidade = eval(input(\"Digite a quantidade que vai comprar\"))\n"
      ],
      "metadata": {
        "id": "hGPgNATZioha"
      },
      "execution_count": null,
      "outputs": []
    }
  ]
}